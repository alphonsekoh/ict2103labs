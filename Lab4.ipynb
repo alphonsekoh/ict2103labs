{
  "nbformat": 4,
  "nbformat_minor": 0,
  "metadata": {
    "colab": {
      "name": "2001376_KohHuanYin_Lab4.ipynb",
      "provenance": []
    },
    "kernelspec": {
      "name": "python3",
      "display_name": "Python 3"
    },
    "language_info": {
      "name": "python"
    }
  },
  "cells": [
    {
      "cell_type": "code",
      "metadata": {
        "colab": {
          "base_uri": "https://localhost:8080/"
        },
        "id": "n2qTTqXkx9vo",
        "outputId": "baf14f6b-e1c2-4b63-d5eb-e5a704dcbea3"
      },
      "source": [
        "import sqlite3\n",
        "# connect to db\n",
        "conn = sqlite3.connect('music2001376.sqlite')\n",
        "print('Opened database successully')\n",
        "\n",
        "def create_table():\n",
        "  stmt= '''CREATE TABLE Tracks\n",
        "        (title  TEXT  NOT NULL,\n",
        "        plays  INT   NOT NULL);'''\n",
        "  conn.execute(stmt)\n",
        "  print('Table has been created successfully!')\n",
        "\n",
        "create_table()"
      ],
      "execution_count": 4,
      "outputs": [
        {
          "output_type": "stream",
          "name": "stdout",
          "text": [
            "Opened database successully\n",
            "Table has been created successfully!\n"
          ]
        }
      ]
    },
    {
      "cell_type": "code",
      "metadata": {
        "colab": {
          "base_uri": "https://localhost:8080/"
        },
        "id": "o2EHDguY5BWF",
        "outputId": "5c8043d3-8f9c-46a3-bc50-307a4703ae52"
      },
      "source": [
        "conn.execute(\"INSERT INTO Tracks (title, plays) \\\n",
        "      VALUES ('Save Your Tears', 20)\")\n",
        "conn.execute(\"INSERT INTO Tracks (title, plays) \\\n",
        "      VALUES ('Leveitating', 15)\")"
      ],
      "execution_count": 5,
      "outputs": [
        {
          "output_type": "execute_result",
          "data": {
            "text/plain": [
              "<sqlite3.Cursor at 0x7f2b3f45f880>"
            ]
          },
          "metadata": {},
          "execution_count": 5
        }
      ]
    },
    {
      "cell_type": "code",
      "metadata": {
        "colab": {
          "base_uri": "https://localhost:8080/"
        },
        "id": "QXEbgPAR6ZL3",
        "outputId": "8704d711-1f88-46be-9ecc-277cd64ccb69"
      },
      "source": [
        "# retrieve tuples from table with for loop\n",
        "def iterative_select():\n",
        "    cursor = conn.execute(\"SELECT title, plays from Tracks\")\n",
        "    for row in cursor:\n",
        "      # print(\"Title = \", row[0])\n",
        "      # print(\"Plays = \", row[1], end=\"\\n\")\n",
        "      print(f\"{row}\")\n",
        "    print(\"Operation done successfully\")\n",
        "iterative_select()"
      ],
      "execution_count": 17,
      "outputs": [
        {
          "output_type": "stream",
          "name": "stdout",
          "text": [
            "('Save Your Tears', 20)\n",
            "('Leveitating', 15)\n",
            "Operation done successfully\n"
          ]
        }
      ]
    },
    {
      "cell_type": "code",
      "metadata": {
        "colab": {
          "base_uri": "https://localhost:8080/"
        },
        "id": "alW3H5KO8YZ_",
        "outputId": "4aa26b03-ea5e-4af2-d52f-3a42250b3aeb"
      },
      "source": [
        "# retrieve using fetchone()\n",
        "def fetch_one():\n",
        "  cur = conn.cursor()\n",
        "  cur.execute(\"SELECT title, plays from Tracks\")\n",
        "  data = cur.fetchone()\n",
        "  print(f\"Data = {data}\", end=\"\\n\")\n",
        "  print(\"Operation done successfully\")\n",
        "fetch_one()\n"
      ],
      "execution_count": 15,
      "outputs": [
        {
          "output_type": "stream",
          "name": "stdout",
          "text": [
            "Data = ('Save Your Tears', 20)\n",
            "Operation done successfully\n"
          ]
        }
      ]
    },
    {
      "cell_type": "code",
      "metadata": {
        "colab": {
          "base_uri": "https://localhost:8080/"
        },
        "id": "7chqS4WY_Q6S",
        "outputId": "44bd4907-5d36-4448-8de5-c07fafdd2d95"
      },
      "source": [
        "# retrieve using fetchall()\n",
        "def fetch_all():\n",
        "  cur = conn.cursor()\n",
        "  cur.execute(\"SELECT title, plays from Tracks\")\n",
        "  data = cur.fetchall()\n",
        "  print(f\"Data = {data}\", end=\"\\n\")\n",
        "  print(\"Operation done successfully\")\n",
        "fetch_all()\n"
      ],
      "execution_count": 16,
      "outputs": [
        {
          "output_type": "stream",
          "name": "stdout",
          "text": [
            "Data = [('Save Your Tears', 20), ('Leveitating', 15)]\n",
            "Operation done successfully\n"
          ]
        }
      ]
    },
    {
      "cell_type": "code",
      "metadata": {
        "colab": {
          "base_uri": "https://localhost:8080/"
        },
        "id": "dG1qUMFrAH7E",
        "outputId": "2a3922cf-556c-4b2d-bdc4-a1a5add5bb13"
      },
      "source": [
        "# update tuple\n",
        "def update_tuple():\n",
        "  stmt=\"UPDATE Tracks SET plays = 5 WHERE title = 'Save Your Tears'\"\n",
        "  conn.execute(stmt)\n",
        "update_tuple()\n",
        "iterative_select()"
      ],
      "execution_count": 19,
      "outputs": [
        {
          "output_type": "stream",
          "name": "stdout",
          "text": [
            "('Save Your Tears', 5)\n",
            "('Leveitating', 15)\n",
            "Operation done successfully\n"
          ]
        }
      ]
    },
    {
      "cell_type": "code",
      "metadata": {
        "colab": {
          "base_uri": "https://localhost:8080/"
        },
        "id": "fGXbm_M7B-rq",
        "outputId": "25a212bd-a1a3-409f-9f38-53338550cf47"
      },
      "source": [
        "# delete tuple\n",
        "def delete_tuple():\n",
        "  stmt=\"DELETE FROM Tracks where plays = 5\"\n",
        "  conn.execute(stmt)\n",
        "delete_tuple()\n",
        "iterative_select()"
      ],
      "execution_count": 20,
      "outputs": [
        {
          "output_type": "stream",
          "name": "stdout",
          "text": [
            "('Leveitating', 15)\n",
            "Operation done successfully\n"
          ]
        }
      ]
    },
    {
      "cell_type": "code",
      "metadata": {
        "colab": {
          "base_uri": "https://localhost:8080/"
        },
        "id": "WaXb_kQqCxi7",
        "outputId": "281abd6d-27e3-47c8-b9dc-71c8ce28a78b"
      },
      "source": [
        "conn.close()\n",
        "conn = sqlite3.connect(\"order.db\")\n",
        "stmt = '''CREATE TABLE customers\n",
        "      (customer_id INT PRIMARY KEY  NOT NULL,\n",
        "       customer_name          TEXT  NOT NULL);\n",
        "       '''\n",
        "conn.execute(stmt)\n",
        "print(\"Table has been created successfully\")\n",
        "stmt = '''CREATE TABLE orders\n",
        "      (order_id TEXT PRIMARY KEY  NOT NULL,\n",
        "       customer_id          INT  NOT NULL,\n",
        "       amount            DOUBLE  NOT NULL,\n",
        "       FOREIGN KEY(customer_id) REFERENCES customers(customer_id));\n",
        "       '''\n",
        "conn.execute(stmt)\n",
        "print(\"Table has been created successfully\")"
      ],
      "execution_count": 26,
      "outputs": [
        {
          "output_type": "stream",
          "name": "stdout",
          "text": [
            "Table has been created successfully\n",
            "Table has been created successfully\n"
          ]
        }
      ]
    },
    {
      "cell_type": "code",
      "metadata": {
        "colab": {
          "base_uri": "https://localhost:8080/"
        },
        "id": "_4Ls8zGbImAB",
        "outputId": "87f72a75-524c-49c9-a555-4bd85eaab008"
      },
      "source": [
        "def customer_insert():\n",
        "  conn.execute(\"INSERT INTO customers(customer_id, customer_name) \\\n",
        "        VALUES (1, 'Arya')\")\n",
        "  conn.execute(\"INSERT INTO customers(customer_id, customer_name) \\\n",
        "        VALUES (2, 'Jon')\")\n",
        "  conn.execute(\"INSERT INTO customers(customer_id, customer_name) \\\n",
        "        VALUES (3, 'Robb')\")\n",
        "  conn.execute(\"INSERT INTO customers(customer_id, customer_name) \\\n",
        "        VALUES (4, 'Huan Yin')\")\n",
        "\n",
        "# prints customer table \n",
        "def customer_table():\n",
        "  cur = conn.execute(\"SELECT * FROM customers\")\n",
        "  for row in cur:\n",
        "    print(f\"{row}\")\n",
        "customer_insert()\n",
        "customer_table()"
      ],
      "execution_count": 28,
      "outputs": [
        {
          "output_type": "stream",
          "name": "stdout",
          "text": [
            "(1, 'Arya')\n",
            "(2, 'Jon')\n",
            "(3, 'Robb')\n",
            "(4, 'Huan Yin')\n"
          ]
        }
      ]
    },
    {
      "cell_type": "code",
      "metadata": {
        "colab": {
          "base_uri": "https://localhost:8080/"
        },
        "id": "68jVondJLIYv",
        "outputId": "a7245244-ebc3-480b-fcf8-133bbc1b02ad"
      },
      "source": [
        "def orders_insert():\n",
        "  conn.execute(\"INSERT INTO orders(order_id, customer_id, amount) \\\n",
        "        VALUES ('01', 1, 19.99)\")\n",
        "  conn.execute(\"INSERT INTO orders(order_id, customer_id, amount) \\\n",
        "        VALUES ('02', 2, 66.66)\")\n",
        "  conn.execute(\"INSERT INTO orders(order_id, customer_id, amount) \\\n",
        "        VALUES ('03', 3, 17.56)\")\n",
        "  conn.execute(\"INSERT INTO orders(order_id, customer_id, amount) \\\n",
        "        VALUES ('04', 4, 88.88)\")\n",
        "\n",
        "# prints orders table\n",
        "def orders_table():\n",
        "  cur = conn.execute(\"SELECT * FROM orders\")\n",
        "  for row in cur:\n",
        "    print(f\"{row}\")\n",
        "\n",
        "orders_insert()\n",
        "orders_table()"
      ],
      "execution_count": 36,
      "outputs": [
        {
          "output_type": "stream",
          "name": "stdout",
          "text": [
            "('01', 1, 19.99)\n",
            "('02', 2, 66.66)\n",
            "('03', 3, 17.56)\n",
            "('04', 4, 88.88)\n"
          ]
        }
      ]
    },
    {
      "cell_type": "code",
      "metadata": {
        "colab": {
          "base_uri": "https://localhost:8080/"
        },
        "id": "uffUUaU-NWXj",
        "outputId": "5cdfb6a0-2b86-4c7d-d41b-ef910a20b99f"
      },
      "source": [
        "# Inner join\n",
        "def inner_join():\n",
        "  stmt = '''SELECT *\n",
        "        FROM customers a\n",
        "        INNER JOIN orders b\n",
        "        ON a.customer_id = b.customer_id\n",
        "        '''\n",
        "  cur = conn.execute(stmt)\n",
        "  for row in cur:\n",
        "    print(f\"{row}\")\n",
        "inner_join()"
      ],
      "execution_count": 40,
      "outputs": [
        {
          "output_type": "stream",
          "name": "stdout",
          "text": [
            "(1, 'Arya', '01', 1, 19.99)\n",
            "(2, 'Jon', '02', 2, 66.66)\n",
            "(3, 'Robb', '03', 3, 17.56)\n",
            "(4, 'Huan Yin', '04', 4, 88.88)\n"
          ]
        }
      ]
    },
    {
      "cell_type": "code",
      "metadata": {
        "colab": {
          "base_uri": "https://localhost:8080/"
        },
        "id": "Lbr3asGMTUw6",
        "outputId": "563c2a1e-1f4c-4696-a3e4-17d7ffeda253"
      },
      "source": [
        "# Inner join with condition\n",
        "def inner_join_where():\n",
        "  stmt = '''SELECT a.customer_name, b.order_id\n",
        "        FROM customers a\n",
        "        INNER JOIN orders b\n",
        "        ON a.customer_id = b.customer_id\n",
        "        WHERE b.amount > 20\n",
        "        '''\n",
        "  cur = conn.execute(stmt)\n",
        "  for row in cur:\n",
        "    print(f\"{row}\")\n",
        "inner_join_where()"
      ],
      "execution_count": 41,
      "outputs": [
        {
          "output_type": "stream",
          "name": "stdout",
          "text": [
            "('Jon', '02')\n",
            "('Huan Yin', '04')\n"
          ]
        }
      ]
    }
  ]
}