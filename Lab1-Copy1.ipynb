{
 "cells": [
  {
   "cell_type": "markdown",
   "id": "5e999e79",
   "metadata": {},
   "source": [
    "Q1. Import necessary libraries, defining DB tables as classes and create table in DB with 3 schemas namely sid (int, PK), name(String) and grade (String)"
   ]
  },
  {
   "cell_type": "code",
   "execution_count": 270,
   "id": "47789d01",
   "metadata": {},
   "outputs": [],
   "source": [
    "import sqlalchemy\n",
    "from sqlalchemy import create_engine, Column, Integer, String\n",
    "from sqlalchemy.orm import sessionmaker, declarative_base\n",
    "\n",
    "# Initialising engine and session\n",
    "engine = create_engine('sqlite:///:memory:', echo=True)\n",
    "Session = sessionmaker(bind=engine)\n",
    "Session.configure(bind=engine)\n",
    "session = Session()"
   ]
  },
  {
   "cell_type": "code",
   "execution_count": 271,
   "id": "31fcee0e",
   "metadata": {},
   "outputs": [
    {
     "name": "stdout",
     "output_type": "stream",
     "text": [
      "2021-09-12 18:19:54,620 INFO sqlalchemy.engine.Engine BEGIN (implicit)\n",
      "2021-09-12 18:19:54,621 INFO sqlalchemy.engine.Engine PRAGMA main.table_info(\"TB2103\")\n",
      "2021-09-12 18:19:54,622 INFO sqlalchemy.engine.Engine [raw sql] ()\n",
      "2021-09-12 18:19:54,623 INFO sqlalchemy.engine.Engine PRAGMA temp.table_info(\"TB2103\")\n",
      "2021-09-12 18:19:54,626 INFO sqlalchemy.engine.Engine [raw sql] ()\n",
      "2021-09-12 18:19:54,627 INFO sqlalchemy.engine.Engine \n",
      "CREATE TABLE \"TB2103\" (\n",
      "\tsid INTEGER NOT NULL, \n",
      "\tname VARCHAR, \n",
      "\tgrade VARCHAR, \n",
      "\tPRIMARY KEY (sid)\n",
      ")\n",
      "\n",
      "\n",
      "2021-09-12 18:19:54,627 INFO sqlalchemy.engine.Engine [no key 0.00040s] ()\n",
      "2021-09-12 18:19:54,628 INFO sqlalchemy.engine.Engine COMMIT\n"
     ]
    }
   ],
   "source": [
    "\n",
    "Base = declarative_base()\n",
    "\n",
    "class CLS2122T1(Base):\n",
    "    __tablename__ = 'TB2103'\n",
    "    \n",
    "    # Creating the Table Schema\n",
    "    sid = Column(Integer, primary_key=True, nullable=False)\n",
    "    name = Column(String)\n",
    "    grade = Column(String)\n",
    "    \n",
    "    def __repr__(self):\n",
    "        return \"<CLS2122(sid='%s', name='%s', grade='%s')>\" %(self.sid, self.name, self.grade)\n",
    "\n",
    "# Creating the table with the metadata\n",
    "Base.metadata.create_all(engine)"
   ]
  },
  {
   "cell_type": "markdown",
   "id": "d12323a4",
   "metadata": {},
   "source": [
    "Q2. Perform the 1st Read operation "
   ]
  },
  {
   "cell_type": "code",
   "execution_count": 272,
   "id": "a0addb4b",
   "metadata": {},
   "outputs": [
    {
     "name": "stdout",
     "output_type": "stream",
     "text": [
      "2021-09-12 18:19:54,649 INFO sqlalchemy.engine.Engine SELECT sid,name,grade from TB2103\n",
      "2021-09-12 18:19:54,650 INFO sqlalchemy.engine.Engine [raw sql] ()\n",
      "sid\t\t\tname\t\t\tgrade\n"
     ]
    }
   ],
   "source": [
    "# Querying the database session\n",
    "q = 'SELECT sid,name,grade from TB2103'\n",
    "table_exec = engine.execute(q)\n",
    "print('sid\\t\\t\\tname\\t\\t\\tgrade')\n",
    "for row in table_exec:\n",
    "    print(f'{row[0]}\\t\\t\\t{row[1]}\\t\\t{row[2]}')\n"
   ]
  },
  {
   "cell_type": "markdown",
   "id": "5ca6d92f",
   "metadata": {},
   "source": [
    "Q3. Perform 1st insert operation by adding yourself as student and displaying the updated table"
   ]
  },
  {
   "cell_type": "code",
   "execution_count": 273,
   "id": "cc2388ca",
   "metadata": {},
   "outputs": [
    {
     "name": "stdout",
     "output_type": "stream",
     "text": [
      "2021-09-12 18:19:54,665 INFO sqlalchemy.engine.Engine INSERT INTO TB2103 values(2001376, \"Koh Huan Yin\", \"NA\")\n",
      "2021-09-12 18:19:54,666 INFO sqlalchemy.engine.Engine [raw sql] ()\n",
      "2021-09-12 18:19:54,667 INFO sqlalchemy.engine.Engine COMMIT\n"
     ]
    }
   ],
   "source": [
    "# Performing the Insert Operation\n",
    "q = 'INSERT INTO TB2103 values(2001376, \"Koh Huan Yin\", \"NA\")'\n",
    "insert = engine.execute(q)\n"
   ]
  },
  {
   "cell_type": "code",
   "execution_count": 274,
   "id": "f7d0f68a",
   "metadata": {},
   "outputs": [
    {
     "name": "stdout",
     "output_type": "stream",
     "text": [
      "2021-09-12 18:19:54,681 INFO sqlalchemy.engine.Engine SELECT sid,name,grade from TB2103\n",
      "2021-09-12 18:19:54,683 INFO sqlalchemy.engine.Engine [raw sql] ()\n",
      "sid\t\t\tname\t\t\tgrade\n",
      "2001376\t\t\tKoh Huan Yin\t\tNA\n",
      "Number of Records:  1\n",
      "Number of Records appended:  1\n"
     ]
    }
   ],
   "source": [
    "# Querying the database session\n",
    "q = 'SELECT sid,name,grade from TB2103'\n",
    "table_exec = engine.execute(q)\n",
    "data_rows = table_exec.fetchall()\n",
    "print('sid\\t\\t\\tname\\t\\t\\tgrade')\n",
    "for row in data_rows:\n",
    "    print(f'{row[0]}\\t\\t\\t{row[1]}\\t\\t{row[2]}')\n",
    "print(\"Number of Records: \",len(data_rows))\n",
    "print(\"Number of Records appended: \", insert.rowcount)"
   ]
  },
  {
   "cell_type": "markdown",
   "id": "a1eac308",
   "metadata": {},
   "source": [
    "Q4. Perform 2nd and 3rd Insert Operation and display all rows in the latest table"
   ]
  },
  {
   "cell_type": "code",
   "execution_count": 275,
   "id": "cfa18af5",
   "metadata": {},
   "outputs": [
    {
     "name": "stdout",
     "output_type": "stream",
     "text": [
      "2021-09-12 18:19:54,697 INFO sqlalchemy.engine.Engine INSERT INTO TB2103 values(?,?,?)\n",
      "2021-09-12 18:19:54,698 INFO sqlalchemy.engine.Engine [raw sql] [(2002345, 'Sansa Stark', 'NA'), (2003456, 'Jon Snow', 'NA')]\n",
      "2021-09-12 18:19:54,700 INFO sqlalchemy.engine.Engine COMMIT\n"
     ]
    }
   ],
   "source": [
    "# Inserting multiple objects\n",
    "my_data = [(2002345, \"Sansa Stark\", \"NA\"),\n",
    "         (2003456, \"Jon Snow\", \"NA\")]\n",
    "q = \"INSERT INTO TB2103 values(?,?,?)\"\n",
    "insert_many = engine.execute(q, my_data)"
   ]
  },
  {
   "cell_type": "code",
   "execution_count": 276,
   "id": "7bff04c0",
   "metadata": {},
   "outputs": [
    {
     "name": "stdout",
     "output_type": "stream",
     "text": [
      "2021-09-12 18:19:54,714 INFO sqlalchemy.engine.Engine SELECT sid,name,grade from TB2103\n",
      "2021-09-12 18:19:54,716 INFO sqlalchemy.engine.Engine [raw sql] ()\n",
      "sid\t\t\tname\t\t\tgrade\n",
      "2001376\t\t\tKoh Huan Yin\t\tNA\n",
      "2002345\t\t\tSansa Stark\t\tNA\n",
      "2003456\t\t\tJon Snow\t\tNA\n",
      "Number of Records:  3\n",
      "Number of Records appended:  2\n"
     ]
    }
   ],
   "source": [
    "# Querying the database session\n",
    "q = 'SELECT sid,name,grade from TB2103'\n",
    "table_exec = engine.execute(q)\n",
    "data_rows = table_exec.fetchall()\n",
    "print('sid\\t\\t\\tname\\t\\t\\tgrade')\n",
    "for row in data_rows:\n",
    "    print(f'{row[0]}\\t\\t\\t{row[1]}\\t\\t{row[2]}')\n",
    "print(\"Number of Records: \",len(data_rows))\n",
    "print(\"Number of Records appended: \", insert_many.rowcount)"
   ]
  },
  {
   "cell_type": "markdown",
   "id": "9ced6027",
   "metadata": {},
   "source": [
    "Q5. Perform the 1st Update Operation by updating the grade of Jon Snow to A- and display all tables "
   ]
  },
  {
   "cell_type": "code",
   "execution_count": 277,
   "id": "32159bcd",
   "metadata": {},
   "outputs": [
    {
     "name": "stdout",
     "output_type": "stream",
     "text": [
      "2021-09-12 18:19:54,729 INFO sqlalchemy.engine.Engine UPDATE TB2103 SET grade='A-' WHERE sid=2003456\n",
      "2021-09-12 18:19:54,730 INFO sqlalchemy.engine.Engine [raw sql] ()\n",
      "2021-09-12 18:19:54,732 INFO sqlalchemy.engine.Engine COMMIT\n"
     ]
    }
   ],
   "source": [
    "# Updating Jon Snow by Query\n",
    "q = \"UPDATE TB2103 SET grade='A-' WHERE sid=2003456\"\n",
    "update = engine.execute(q)"
   ]
  },
  {
   "cell_type": "code",
   "execution_count": 278,
   "id": "61a77a14",
   "metadata": {},
   "outputs": [
    {
     "name": "stdout",
     "output_type": "stream",
     "text": [
      "2021-09-12 18:19:54,747 INFO sqlalchemy.engine.Engine SELECT sid,name,grade from TB2103\n",
      "2021-09-12 18:19:54,749 INFO sqlalchemy.engine.Engine [raw sql] ()\n",
      "sid\t\t\tname\t\t\tgrade\n",
      "2001376\t\t\tKoh Huan Yin\t\tNA\n",
      "2002345\t\t\tSansa Stark\t\tNA\n",
      "2003456\t\t\tJon Snow\t\tA-\n",
      "Number of Records:  3\n",
      "Rows updated:  1\n"
     ]
    }
   ],
   "source": [
    "# Querying the database session\n",
    "q = 'SELECT sid,name,grade from TB2103'\n",
    "table_exec = engine.execute(q)\n",
    "data_rows = table_exec.fetchall()\n",
    "print('sid\\t\\t\\tname\\t\\t\\tgrade')\n",
    "for row in data_rows:\n",
    "    print(f'{row[0]}\\t\\t\\t{row[1]}\\t\\t{row[2]}')\n",
    "print(\"Number of Records: \",len(data_rows))\n",
    "print(\"Rows updated: \", update.rowcount)"
   ]
  },
  {
   "cell_type": "markdown",
   "id": "34a1d3a9",
   "metadata": {},
   "source": [
    "Q6. Perform 2nd Update Operation by updating grade of yourself to A+ and display all grades on the table"
   ]
  },
  {
   "cell_type": "code",
   "execution_count": 279,
   "id": "a558701d",
   "metadata": {},
   "outputs": [
    {
     "name": "stdout",
     "output_type": "stream",
     "text": [
      "2021-09-12 18:19:54,760 INFO sqlalchemy.engine.Engine UPDATE TB2103 SET grade='A+' WHERE sid=2001376\n",
      "2021-09-12 18:19:54,761 INFO sqlalchemy.engine.Engine [raw sql] ()\n",
      "2021-09-12 18:19:54,763 INFO sqlalchemy.engine.Engine COMMIT\n"
     ]
    }
   ],
   "source": [
    "q = \"UPDATE TB2103 SET grade='A+' WHERE sid=2001376\"\n",
    "update = engine.execute(q)"
   ]
  },
  {
   "cell_type": "code",
   "execution_count": 280,
   "id": "07ad2734",
   "metadata": {},
   "outputs": [
    {
     "name": "stdout",
     "output_type": "stream",
     "text": [
      "2021-09-12 18:19:54,776 INFO sqlalchemy.engine.Engine SELECT sid,name,grade from TB2103\n",
      "2021-09-12 18:19:54,777 INFO sqlalchemy.engine.Engine [raw sql] ()\n",
      "sid\t\t\tname\t\t\tgrade\n",
      "2001376\t\t\tKoh Huan Yin\t\tA+\n",
      "2002345\t\t\tSansa Stark\t\tNA\n",
      "2003456\t\t\tJon Snow\t\tA-\n",
      "Number of Records:  3\n",
      "Rows updated:  1\n"
     ]
    }
   ],
   "source": [
    "# Querying the database session\n",
    "q = 'SELECT sid,name,grade from TB2103'\n",
    "table_exec = engine.execute(q)\n",
    "data_rows = table_exec.fetchall()\n",
    "print('sid\\t\\t\\tname\\t\\t\\tgrade')\n",
    "for row in data_rows:\n",
    "    print(f'{row[0]}\\t\\t\\t{row[1]}\\t\\t{row[2]}')\n",
    "print(\"Number of Records: \",len(data_rows))\n",
    "print(\"Rows updated: \", update.rowcount)"
   ]
  },
  {
   "cell_type": "markdown",
   "id": "07c0797b",
   "metadata": {},
   "source": [
    "Q7. Perform 1st Delete Operation by deleting student Sansa Stark and displaying the table"
   ]
  },
  {
   "cell_type": "code",
   "execution_count": 281,
   "id": "d2aa0cb3",
   "metadata": {},
   "outputs": [
    {
     "name": "stdout",
     "output_type": "stream",
     "text": [
      "2021-09-12 18:19:54,788 INFO sqlalchemy.engine.Engine DELETE FROM TB2103 WHERE sid=2002345\n",
      "2021-09-12 18:19:54,789 INFO sqlalchemy.engine.Engine [raw sql] ()\n",
      "2021-09-12 18:19:54,790 INFO sqlalchemy.engine.Engine COMMIT\n"
     ]
    }
   ],
   "source": [
    "# Deleting Sansa by Query\n",
    "q = \"DELETE FROM TB2103 WHERE sid=2002345\"\n",
    "delete = engine.execute(q)"
   ]
  },
  {
   "cell_type": "code",
   "execution_count": 282,
   "id": "80c1b29e",
   "metadata": {},
   "outputs": [
    {
     "name": "stdout",
     "output_type": "stream",
     "text": [
      "2021-09-12 18:19:54,804 INFO sqlalchemy.engine.Engine SELECT sid,name,grade from TB2103\n",
      "2021-09-12 18:19:54,805 INFO sqlalchemy.engine.Engine [raw sql] ()\n",
      "sid\t\t\tname\t\t\tgrade\n",
      "2001376\t\t\tKoh Huan Yin\t\tA+\n",
      "2003456\t\t\tJon Snow\t\tA-\n",
      "Number of Records:  2\n",
      "Rows deleted:  1\n"
     ]
    }
   ],
   "source": [
    "# Querying the database session\n",
    "q = 'SELECT sid,name,grade from TB2103'\n",
    "table_exec = engine.execute(q)\n",
    "data_rows = table_exec.fetchall()\n",
    "print('sid\\t\\t\\tname\\t\\t\\tgrade')\n",
    "for row in data_rows:\n",
    "    print(f'{row[0]}\\t\\t\\t{row[1]}\\t\\t{row[2]}')\n",
    "print(\"Number of Records: \",len(data_rows))\n",
    "print(\"Rows deleted: \", delete.rowcount)"
   ]
  },
  {
   "cell_type": "markdown",
   "id": "a969df69",
   "metadata": {},
   "source": [
    "Q8. Perform 2nd Delete Operation by deleting all students in the table and displaying it"
   ]
  },
  {
   "cell_type": "code",
   "execution_count": 283,
   "id": "ca07c1e9",
   "metadata": {},
   "outputs": [
    {
     "name": "stdout",
     "output_type": "stream",
     "text": [
      "2021-09-12 18:19:54,819 INFO sqlalchemy.engine.Engine DELETE FROM TB2103\n",
      "2021-09-12 18:19:54,821 INFO sqlalchemy.engine.Engine [raw sql] ()\n",
      "2021-09-12 18:19:54,822 INFO sqlalchemy.engine.Engine COMMIT\n"
     ]
    }
   ],
   "source": [
    "query = 'DELETE FROM TB2103'\n",
    "delete_all= engine.execute(query)"
   ]
  },
  {
   "cell_type": "code",
   "execution_count": 284,
   "id": "615858d8",
   "metadata": {},
   "outputs": [
    {
     "name": "stdout",
     "output_type": "stream",
     "text": [
      "2021-09-12 18:19:54,835 INFO sqlalchemy.engine.Engine SELECT sid,name,grade from TB2103\n",
      "2021-09-12 18:19:54,836 INFO sqlalchemy.engine.Engine [raw sql] ()\n",
      "sid\t\t\tname\t\t\tgrade\n",
      "Number of Records:  0\n",
      "Rows deleted:  2\n"
     ]
    }
   ],
   "source": [
    "# Querying the database session\n",
    "q = 'SELECT sid,name,grade from TB2103'\n",
    "table_exec = engine.execute(q)\n",
    "data_rows = table_exec.fetchall()\n",
    "print('sid\\t\\t\\tname\\t\\t\\tgrade')\n",
    "for row in data_rows:\n",
    "    print(f'{row[0]}\\t\\t\\t{row[1]}\\t\\t{row[2]}')\n",
    "print(\"Number of Records: \",len(data_rows))\n",
    "print(\"Rows deleted: \", delete_all.rowcount)\n"
   ]
  }
 ],
 "metadata": {
  "kernelspec": {
   "display_name": "Python 3 (ipykernel)",
   "language": "python",
   "name": "python3"
  },
  "language_info": {
   "codemirror_mode": {
    "name": "ipython",
    "version": 3
   },
   "file_extension": ".py",
   "mimetype": "text/x-python",
   "name": "python",
   "nbconvert_exporter": "python",
   "pygments_lexer": "ipython3",
   "version": "3.8.10"
  }
 },
 "nbformat": 4,
 "nbformat_minor": 5
}
