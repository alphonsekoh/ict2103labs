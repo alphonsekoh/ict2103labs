{
 "cells": [
  {
   "cell_type": "markdown",
   "id": "752ffb88",
   "metadata": {},
   "source": [
    "Q1. Import necessary libraries, defining DB tables as classes and create table in DB with 3 schemas namely sid (int, PK), name(String) and grade (String)"
   ]
  },
  {
   "cell_type": "code",
   "execution_count": 285,
   "id": "3b105d19",
   "metadata": {},
   "outputs": [],
   "source": [
    "import sqlalchemy\n",
    "from sqlalchemy import create_engine, Column, Integer, String\n",
    "from sqlalchemy.orm import sessionmaker, declarative_base\n",
    "\n",
    "# Initialising engine and session\n",
    "engine = create_engine('sqlite:///:memory:', echo=True)\n",
    "Session = sessionmaker(bind=engine)\n",
    "Session.configure(bind=engine)\n",
    "session = Session()"
   ]
  },
  {
   "cell_type": "code",
   "execution_count": 286,
   "id": "af3ef7af",
   "metadata": {},
   "outputs": [
    {
     "name": "stdout",
     "output_type": "stream",
     "text": [
      "2021-09-12 18:42:10,414 INFO sqlalchemy.engine.Engine BEGIN (implicit)\n",
      "2021-09-12 18:42:10,418 INFO sqlalchemy.engine.Engine PRAGMA main.table_info(\"TB2103\")\n",
      "2021-09-12 18:42:10,418 INFO sqlalchemy.engine.Engine [raw sql] ()\n",
      "2021-09-12 18:42:10,418 INFO sqlalchemy.engine.Engine PRAGMA temp.table_info(\"TB2103\")\n",
      "2021-09-12 18:42:10,418 INFO sqlalchemy.engine.Engine [raw sql] ()\n",
      "2021-09-12 18:42:10,418 INFO sqlalchemy.engine.Engine \n",
      "CREATE TABLE \"TB2103\" (\n",
      "\tsid INTEGER NOT NULL, \n",
      "\tname VARCHAR, \n",
      "\tgrade VARCHAR, \n",
      "\tPRIMARY KEY (sid)\n",
      ")\n",
      "\n",
      "\n",
      "2021-09-12 18:42:10,422 INFO sqlalchemy.engine.Engine [no key 0.00047s] ()\n",
      "2021-09-12 18:42:10,422 INFO sqlalchemy.engine.Engine COMMIT\n"
     ]
    }
   ],
   "source": [
    "\n",
    "Base = declarative_base()\n",
    "\n",
    "class CLS2122T1(Base):\n",
    "    __tablename__ = 'TB2103'\n",
    "    \n",
    "    # Creating the Table Schema\n",
    "    sid = Column(Integer, primary_key=True, nullable=False)\n",
    "    name = Column(String)\n",
    "    grade = Column(String)\n",
    "    \n",
    "    def __repr__(self):\n",
    "        return \"<CLS2122(sid='%s', name='%s', grade='%s')>\" %(self.sid, self.name, self.grade)\n",
    "\n",
    "# Creating the table with the metadata\n",
    "Base.metadata.create_all(engine)"
   ]
  },
  {
   "cell_type": "markdown",
   "id": "1f8fd383",
   "metadata": {},
   "source": [
    "Q2. Perform the 1st Read operation "
   ]
  },
  {
   "cell_type": "code",
   "execution_count": 287,
   "id": "0e46ce77",
   "metadata": {},
   "outputs": [
    {
     "name": "stdout",
     "output_type": "stream",
     "text": [
      "2021-09-12 18:42:10,427 INFO sqlalchemy.engine.Engine SELECT sid,name,grade from TB2103\n",
      "2021-09-12 18:42:10,427 INFO sqlalchemy.engine.Engine [raw sql] ()\n",
      "sid\t\t\tname\t\t\tgrade\n",
      "Number of Records:  0\n"
     ]
    }
   ],
   "source": [
    "# Querying database\n",
    "q = 'SELECT sid,name,grade from TB2103'\n",
    "table_exec = engine.execute(q)\n",
    "data_rows = table_exec.fetchall()\n",
    "print('sid\\t\\t\\tname\\t\\t\\tgrade')\n",
    "for row in data_rows:\n",
    "    print(f'{row[0]}\\t\\t\\t{row[1]}\\t\\t{row[2]}')\n",
    "print(\"Number of Records: \",len(data_rows))"
   ]
  },
  {
   "cell_type": "markdown",
   "id": "fcac62f5",
   "metadata": {},
   "source": [
    "Q3. Perform 1st insert operation by adding yourself as student and displaying the updated table"
   ]
  },
  {
   "cell_type": "code",
   "execution_count": 288,
   "id": "017fe46c",
   "metadata": {},
   "outputs": [
    {
     "name": "stdout",
     "output_type": "stream",
     "text": [
      "2021-09-12 18:42:10,443 INFO sqlalchemy.engine.Engine INSERT INTO TB2103 values(2001376, \"Koh Huan Yin\", \"NA\")\n",
      "2021-09-12 18:42:10,443 INFO sqlalchemy.engine.Engine [raw sql] ()\n",
      "2021-09-12 18:42:10,443 INFO sqlalchemy.engine.Engine COMMIT\n"
     ]
    }
   ],
   "source": [
    "# Performing the Insert Operation\n",
    "q = 'INSERT INTO TB2103 values(2001376, \"Koh Huan Yin\", \"NA\")'\n",
    "insert = engine.execute(q)\n"
   ]
  },
  {
   "cell_type": "code",
   "execution_count": 289,
   "id": "4953e34c",
   "metadata": {},
   "outputs": [
    {
     "name": "stdout",
     "output_type": "stream",
     "text": [
      "2021-09-12 18:42:10,459 INFO sqlalchemy.engine.Engine SELECT sid,name,grade from TB2103\n",
      "2021-09-12 18:42:10,459 INFO sqlalchemy.engine.Engine [raw sql] ()\n",
      "sid\t\t\tname\t\t\tgrade\n",
      "2001376\t\t\tKoh Huan Yin\t\tNA\n",
      "Number of Records:  1\n",
      "Number of Records appended:  1\n"
     ]
    }
   ],
   "source": [
    "# Querying the database session\n",
    "q = 'SELECT sid,name,grade from TB2103'\n",
    "table_exec = engine.execute(q)\n",
    "data_rows = table_exec.fetchall()\n",
    "print('sid\\t\\t\\tname\\t\\t\\tgrade')\n",
    "for row in data_rows:\n",
    "    print(f'{row[0]}\\t\\t\\t{row[1]}\\t\\t{row[2]}')\n",
    "print(\"Number of Records: \",len(data_rows))\n",
    "print(\"Number of Records appended: \", insert.rowcount)"
   ]
  },
  {
   "cell_type": "markdown",
   "id": "636c4074",
   "metadata": {},
   "source": [
    "Q4. Perform 2nd and 3rd Insert Operation and display all rows in the latest table"
   ]
  },
  {
   "cell_type": "code",
   "execution_count": 290,
   "id": "780e8fc3",
   "metadata": {},
   "outputs": [
    {
     "name": "stdout",
     "output_type": "stream",
     "text": [
      "2021-09-12 18:42:10,475 INFO sqlalchemy.engine.Engine INSERT INTO TB2103 values(?,?,?)\n",
      "2021-09-12 18:42:10,475 INFO sqlalchemy.engine.Engine [raw sql] [(2002345, 'Sansa Stark', 'NA'), (2003456, 'Jon Snow', 'NA')]\n",
      "2021-09-12 18:42:10,479 INFO sqlalchemy.engine.Engine COMMIT\n"
     ]
    }
   ],
   "source": [
    "# Inserting multiple objects\n",
    "my_data = [(2002345, \"Sansa Stark\", \"NA\"),\n",
    "         (2003456, \"Jon Snow\", \"NA\")]\n",
    "q = \"INSERT INTO TB2103 values(?,?,?)\"\n",
    "insert_many = engine.execute(q, my_data)"
   ]
  },
  {
   "cell_type": "code",
   "execution_count": 291,
   "id": "fc75af89",
   "metadata": {},
   "outputs": [
    {
     "name": "stdout",
     "output_type": "stream",
     "text": [
      "2021-09-12 18:42:10,491 INFO sqlalchemy.engine.Engine SELECT sid,name,grade from TB2103\n",
      "2021-09-12 18:42:10,495 INFO sqlalchemy.engine.Engine [raw sql] ()\n",
      "sid\t\t\tname\t\t\tgrade\n",
      "2001376\t\t\tKoh Huan Yin\t\tNA\n",
      "2002345\t\t\tSansa Stark\t\tNA\n",
      "2003456\t\t\tJon Snow\t\tNA\n",
      "Number of Records:  3\n",
      "Number of Records appended:  2\n"
     ]
    }
   ],
   "source": [
    "# Querying the database session\n",
    "q = 'SELECT sid,name,grade from TB2103'\n",
    "table_exec = engine.execute(q)\n",
    "data_rows = table_exec.fetchall()\n",
    "print('sid\\t\\t\\tname\\t\\t\\tgrade')\n",
    "for row in data_rows:\n",
    "    print(f'{row[0]}\\t\\t\\t{row[1]}\\t\\t{row[2]}')\n",
    "print(\"Number of Records: \",len(data_rows))\n",
    "print(\"Number of Records appended: \", insert_many.rowcount)"
   ]
  },
  {
   "cell_type": "markdown",
   "id": "9259835a",
   "metadata": {},
   "source": [
    "Q5. Perform the 1st Update Operation by updating the grade of Jon Snow to A- and display all tables "
   ]
  },
  {
   "cell_type": "code",
   "execution_count": 292,
   "id": "3f7ebb83",
   "metadata": {},
   "outputs": [
    {
     "name": "stdout",
     "output_type": "stream",
     "text": [
      "2021-09-12 18:42:10,507 INFO sqlalchemy.engine.Engine UPDATE TB2103 SET grade='A-' WHERE sid=2003456\n",
      "2021-09-12 18:42:10,507 INFO sqlalchemy.engine.Engine [raw sql] ()\n",
      "2021-09-12 18:42:10,507 INFO sqlalchemy.engine.Engine COMMIT\n"
     ]
    }
   ],
   "source": [
    "# Updating Jon Snow by Query\n",
    "q = \"UPDATE TB2103 SET grade='A-' WHERE sid=2003456\"\n",
    "update = engine.execute(q)"
   ]
  },
  {
   "cell_type": "code",
   "execution_count": 293,
   "id": "6590805d",
   "metadata": {},
   "outputs": [
    {
     "name": "stdout",
     "output_type": "stream",
     "text": [
      "2021-09-12 18:42:10,523 INFO sqlalchemy.engine.Engine SELECT sid,name,grade from TB2103\n",
      "2021-09-12 18:42:10,523 INFO sqlalchemy.engine.Engine [raw sql] ()\n",
      "sid\t\t\tname\t\t\tgrade\n",
      "2001376\t\t\tKoh Huan Yin\t\tNA\n",
      "2002345\t\t\tSansa Stark\t\tNA\n",
      "2003456\t\t\tJon Snow\t\tA-\n",
      "Number of Records:  3\n",
      "Rows updated:  1\n"
     ]
    }
   ],
   "source": [
    "# Querying the database session\n",
    "q = 'SELECT sid,name,grade from TB2103'\n",
    "table_exec = engine.execute(q)\n",
    "data_rows = table_exec.fetchall()\n",
    "print('sid\\t\\t\\tname\\t\\t\\tgrade')\n",
    "for row in data_rows:\n",
    "    print(f'{row[0]}\\t\\t\\t{row[1]}\\t\\t{row[2]}')\n",
    "print(\"Number of Records: \",len(data_rows))\n",
    "print(\"Rows updated: \", update.rowcount)"
   ]
  },
  {
   "cell_type": "markdown",
   "id": "879573c3",
   "metadata": {},
   "source": [
    "Q6. Perform 2nd Update Operation by updating grade of yourself to A+ and display all grades on the table"
   ]
  },
  {
   "cell_type": "code",
   "execution_count": 294,
   "id": "2023f198",
   "metadata": {},
   "outputs": [
    {
     "name": "stdout",
     "output_type": "stream",
     "text": [
      "2021-09-12 18:42:10,535 INFO sqlalchemy.engine.Engine UPDATE TB2103 SET grade='A+' WHERE sid=2001376\n",
      "2021-09-12 18:42:10,539 INFO sqlalchemy.engine.Engine [raw sql] ()\n",
      "2021-09-12 18:42:10,539 INFO sqlalchemy.engine.Engine COMMIT\n"
     ]
    }
   ],
   "source": [
    "q = \"UPDATE TB2103 SET grade='A+' WHERE sid=2001376\"\n",
    "update = engine.execute(q)"
   ]
  },
  {
   "cell_type": "code",
   "execution_count": 295,
   "id": "46606e23",
   "metadata": {},
   "outputs": [
    {
     "name": "stdout",
     "output_type": "stream",
     "text": [
      "2021-09-12 18:42:10,551 INFO sqlalchemy.engine.Engine SELECT sid,name,grade from TB2103\n",
      "2021-09-12 18:42:10,555 INFO sqlalchemy.engine.Engine [raw sql] ()\n",
      "sid\t\t\tname\t\t\tgrade\n",
      "2001376\t\t\tKoh Huan Yin\t\tA+\n",
      "2002345\t\t\tSansa Stark\t\tNA\n",
      "2003456\t\t\tJon Snow\t\tA-\n",
      "Number of Records:  3\n",
      "Rows updated:  1\n"
     ]
    }
   ],
   "source": [
    "# Querying the database session\n",
    "q = 'SELECT sid,name,grade from TB2103'\n",
    "table_exec = engine.execute(q)\n",
    "data_rows = table_exec.fetchall()\n",
    "print('sid\\t\\t\\tname\\t\\t\\tgrade')\n",
    "for row in data_rows:\n",
    "    print(f'{row[0]}\\t\\t\\t{row[1]}\\t\\t{row[2]}')\n",
    "print(\"Number of Records: \",len(data_rows))\n",
    "print(\"Rows updated: \", update.rowcount)"
   ]
  },
  {
   "cell_type": "markdown",
   "id": "e7fc640c",
   "metadata": {},
   "source": [
    "Q7. Perform 1st Delete Operation by deleting student Sansa Stark and displaying the table"
   ]
  },
  {
   "cell_type": "code",
   "execution_count": 296,
   "id": "714ac0b8",
   "metadata": {},
   "outputs": [
    {
     "name": "stdout",
     "output_type": "stream",
     "text": [
      "2021-09-12 18:42:10,567 INFO sqlalchemy.engine.Engine DELETE FROM TB2103 WHERE sid=2002345\n",
      "2021-09-12 18:42:10,571 INFO sqlalchemy.engine.Engine [raw sql] ()\n",
      "2021-09-12 18:42:10,571 INFO sqlalchemy.engine.Engine COMMIT\n"
     ]
    }
   ],
   "source": [
    "# Deleting Sansa by Query\n",
    "q = \"DELETE FROM TB2103 WHERE sid=2002345\"\n",
    "delete = engine.execute(q)"
   ]
  },
  {
   "cell_type": "code",
   "execution_count": 297,
   "id": "210aecba",
   "metadata": {},
   "outputs": [
    {
     "name": "stdout",
     "output_type": "stream",
     "text": [
      "2021-09-12 18:42:10,587 INFO sqlalchemy.engine.Engine SELECT sid,name,grade from TB2103\n",
      "2021-09-12 18:42:10,587 INFO sqlalchemy.engine.Engine [raw sql] ()\n",
      "sid\t\t\tname\t\t\tgrade\n",
      "2001376\t\t\tKoh Huan Yin\t\tA+\n",
      "2003456\t\t\tJon Snow\t\tA-\n",
      "Number of Records:  2\n",
      "Rows deleted:  1\n"
     ]
    }
   ],
   "source": [
    "# Querying the database session\n",
    "q = 'SELECT sid,name,grade from TB2103'\n",
    "table_exec = engine.execute(q)\n",
    "data_rows = table_exec.fetchall()\n",
    "print('sid\\t\\t\\tname\\t\\t\\tgrade')\n",
    "for row in data_rows:\n",
    "    print(f'{row[0]}\\t\\t\\t{row[1]}\\t\\t{row[2]}')\n",
    "print(\"Number of Records: \",len(data_rows))\n",
    "print(\"Rows deleted: \", delete.rowcount)"
   ]
  },
  {
   "cell_type": "markdown",
   "id": "ef1cdd6a",
   "metadata": {},
   "source": [
    "Q8. Perform 2nd Delete Operation by deleting all students in the table and displaying it"
   ]
  },
  {
   "cell_type": "code",
   "execution_count": 298,
   "id": "6a044684",
   "metadata": {},
   "outputs": [
    {
     "name": "stdout",
     "output_type": "stream",
     "text": [
      "2021-09-12 18:42:10,599 INFO sqlalchemy.engine.Engine DELETE FROM TB2103\n",
      "2021-09-12 18:42:10,603 INFO sqlalchemy.engine.Engine [raw sql] ()\n",
      "2021-09-12 18:42:10,603 INFO sqlalchemy.engine.Engine COMMIT\n"
     ]
    }
   ],
   "source": [
    "query = 'DELETE FROM TB2103'\n",
    "delete_all= engine.execute(query)"
   ]
  },
  {
   "cell_type": "code",
   "execution_count": 299,
   "id": "fb3f2bf1",
   "metadata": {},
   "outputs": [
    {
     "name": "stdout",
     "output_type": "stream",
     "text": [
      "2021-09-12 18:42:10,617 INFO sqlalchemy.engine.Engine SELECT sid,name,grade from TB2103\n",
      "2021-09-12 18:42:10,617 INFO sqlalchemy.engine.Engine [raw sql] ()\n",
      "sid\t\t\tname\t\t\tgrade\n",
      "Number of Records:  0\n",
      "Rows deleted:  2\n"
     ]
    }
   ],
   "source": [
    "# Querying the database session\n",
    "q = 'SELECT sid,name,grade from TB2103'\n",
    "table_exec = engine.execute(q)\n",
    "data_rows = table_exec.fetchall()\n",
    "print('sid\\t\\t\\tname\\t\\t\\tgrade')\n",
    "for row in data_rows:\n",
    "    print(f'{row[0]}\\t\\t\\t{row[1]}\\t\\t{row[2]}')\n",
    "print(\"Number of Records: \",len(data_rows))\n",
    "print(\"Rows deleted: \", delete_all.rowcount)\n"
   ]
  }
 ],
 "metadata": {
  "kernelspec": {
   "display_name": "Python 3 (ipykernel)",
   "language": "python",
   "name": "python3"
  },
  "language_info": {
   "codemirror_mode": {
    "name": "ipython",
    "version": 3
   },
   "file_extension": ".py",
   "mimetype": "text/x-python",
   "name": "python",
   "nbconvert_exporter": "python",
   "pygments_lexer": "ipython3",
   "version": "3.8.10"
  }
 },
 "nbformat": 4,
 "nbformat_minor": 5
}
