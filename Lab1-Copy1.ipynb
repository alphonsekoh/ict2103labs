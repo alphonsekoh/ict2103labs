{
 "cells": [
  {
   "cell_type": "markdown",
   "source": [
    "Q1. Import necessary libraries, defining DB tables as classes and create table in DB with 3 schemas namely sid (int, PK), name(String) and grade (String)"
   ],
   "metadata": {}
  },
  {
   "cell_type": "code",
   "execution_count": 17,
   "source": [
    "import sqlalchemy\r\n",
    "from sqlalchemy import create_engine, Column, Integer, String\r\n",
    "from sqlalchemy.orm import sessionmaker, declarative_base\r\n",
    "\r\n",
    "# Initialising engine and session\r\n",
    "engine = create_engine('sqlite:///:memory:', echo=True)\r\n",
    "Session = sessionmaker(bind=engine)\r\n",
    "Session.configure(bind=engine)\r\n",
    "session = Session()"
   ],
   "outputs": [],
   "metadata": {}
  },
  {
   "cell_type": "code",
   "execution_count": 18,
   "source": [
    "\r\n",
    "Base = declarative_base()\r\n",
    "\r\n",
    "class CLS2122T1(Base):\r\n",
    "    __tablename__ = 'TB2103'\r\n",
    "    \r\n",
    "    # Creating the Table Schema\r\n",
    "    sid = Column(Integer, primary_key=True, nullable=False)\r\n",
    "    name = Column(String)\r\n",
    "    grade = Column(String)\r\n",
    "    \r\n",
    "    def __repr__(self):\r\n",
    "        return \"<CLS2122(sid='%s', name='%s', grade='%s')>\" %(self.sid, self.name, self.grade)\r\n",
    "\r\n",
    "# Creating the table with the metadata\r\n",
    "Base.metadata.create_all(engine)"
   ],
   "outputs": [
    {
     "output_type": "stream",
     "name": "stdout",
     "text": [
      "2021-09-14 23:45:22,775 INFO sqlalchemy.engine.Engine BEGIN (implicit)\n",
      "2021-09-14 23:45:22,776 INFO sqlalchemy.engine.Engine PRAGMA main.table_info(\"TB2103\")\n",
      "2021-09-14 23:45:22,777 INFO sqlalchemy.engine.Engine [raw sql] ()\n",
      "2021-09-14 23:45:22,778 INFO sqlalchemy.engine.Engine PRAGMA temp.table_info(\"TB2103\")\n",
      "2021-09-14 23:45:22,778 INFO sqlalchemy.engine.Engine [raw sql] ()\n",
      "2021-09-14 23:45:22,779 INFO sqlalchemy.engine.Engine \n",
      "CREATE TABLE \"TB2103\" (\n",
      "\tsid INTEGER NOT NULL, \n",
      "\tname VARCHAR, \n",
      "\tgrade VARCHAR, \n",
      "\tPRIMARY KEY (sid)\n",
      ")\n",
      "\n",
      "\n",
      "2021-09-14 23:45:22,780 INFO sqlalchemy.engine.Engine [no key 0.00082s] ()\n",
      "2021-09-14 23:45:22,782 INFO sqlalchemy.engine.Engine COMMIT\n"
     ]
    }
   ],
   "metadata": {}
  },
  {
   "cell_type": "markdown",
   "source": [
    "Q2. Perform the 1st Read operation "
   ],
   "metadata": {}
  },
  {
   "cell_type": "code",
   "execution_count": 19,
   "source": [
    "def show_table():\r\n",
    "    # Querying database\r\n",
    "    q = 'SELECT sid,name,grade from TB2103'\r\n",
    "    table_exec = engine.execute(q)\r\n",
    "    data_rows = table_exec.fetchall()\r\n",
    "    print('sid\\t\\t\\tname\\t\\t\\tgrade')\r\n",
    "    for row in data_rows:\r\n",
    "        print(f'{row[0]}\\t\\t\\t{row[1]}\\t\\t{row[2]}')\r\n",
    "    print(\"Number of Records: \",len(data_rows))\r\n",
    "show_table()"
   ],
   "outputs": [
    {
     "output_type": "stream",
     "name": "stdout",
     "text": [
      "2021-09-14 23:45:22,820 INFO sqlalchemy.engine.Engine SELECT sid,name,grade from TB2103\n",
      "2021-09-14 23:45:22,822 INFO sqlalchemy.engine.Engine [raw sql] ()\n",
      "sid\t\t\tname\t\t\tgrade\n",
      "Number of Records:  0\n"
     ]
    }
   ],
   "metadata": {}
  },
  {
   "cell_type": "markdown",
   "source": [
    "Q3. Perform 1st insert operation by adding yourself as student and displaying the updated table"
   ],
   "metadata": {}
  },
  {
   "cell_type": "code",
   "execution_count": 20,
   "source": [
    "# Performing the Insert Operation\r\n",
    "q = 'INSERT INTO TB2103 values(2001376, \"Koh Huan Yin\", \"NA\")'\r\n",
    "insert = engine.execute(q)\r\n",
    "show_table()\r\n",
    "print(\"Record appended: \", insert.rowcount)"
   ],
   "outputs": [
    {
     "output_type": "stream",
     "name": "stdout",
     "text": [
      "2021-09-14 23:45:22,877 INFO sqlalchemy.engine.Engine INSERT INTO TB2103 values(2001376, \"Koh Huan Yin\", \"NA\")\n",
      "2021-09-14 23:45:22,879 INFO sqlalchemy.engine.Engine [raw sql] ()\n",
      "2021-09-14 23:45:22,880 INFO sqlalchemy.engine.Engine COMMIT\n",
      "2021-09-14 23:45:22,881 INFO sqlalchemy.engine.Engine SELECT sid,name,grade from TB2103\n",
      "2021-09-14 23:45:22,882 INFO sqlalchemy.engine.Engine [raw sql] ()\n",
      "sid\t\t\tname\t\t\tgrade\n",
      "2001376\t\t\tKoh Huan Yin\t\tNA\n",
      "Number of Records:  1\n",
      "Record appended:  1\n"
     ]
    }
   ],
   "metadata": {}
  },
  {
   "cell_type": "markdown",
   "source": [
    "Q4. Perform 2nd and 3rd Insert Operation and display all rows in the latest table"
   ],
   "metadata": {}
  },
  {
   "cell_type": "code",
   "execution_count": 21,
   "source": [
    "# Inserting multiple objects\r\n",
    "my_data = [(2002345, \"Sansa Stark\", \"NA\"),\r\n",
    "         (2003456, \"Jon Snow\", \"NA\")]\r\n",
    "q = \"INSERT INTO TB2103 values(?,?,?)\"\r\n",
    "insert_many = engine.execute(q, my_data)\r\n",
    "show_table()\r\n",
    "print(\"Record appended: \", insert_many.rowcount)"
   ],
   "outputs": [
    {
     "output_type": "stream",
     "name": "stdout",
     "text": [
      "2021-09-14 23:45:22,935 INFO sqlalchemy.engine.Engine INSERT INTO TB2103 values(?,?,?)\n",
      "2021-09-14 23:45:22,937 INFO sqlalchemy.engine.Engine [raw sql] [(2002345, 'Sansa Stark', 'NA'), (2003456, 'Jon Snow', 'NA')]\n",
      "2021-09-14 23:45:22,939 INFO sqlalchemy.engine.Engine COMMIT\n",
      "2021-09-14 23:45:22,940 INFO sqlalchemy.engine.Engine SELECT sid,name,grade from TB2103\n",
      "2021-09-14 23:45:22,940 INFO sqlalchemy.engine.Engine [raw sql] ()\n",
      "sid\t\t\tname\t\t\tgrade\n",
      "2001376\t\t\tKoh Huan Yin\t\tNA\n",
      "2002345\t\t\tSansa Stark\t\tNA\n",
      "2003456\t\t\tJon Snow\t\tNA\n",
      "Number of Records:  3\n",
      "Record appended:  2\n"
     ]
    }
   ],
   "metadata": {}
  },
  {
   "cell_type": "markdown",
   "source": [
    "Q5. Perform the 1st Update Operation by updating the grade of Jon Snow to A- and display all tables "
   ],
   "metadata": {}
  },
  {
   "cell_type": "code",
   "execution_count": 22,
   "source": [
    "# Updating Jon Snow by Query\r\n",
    "q = \"UPDATE TB2103 SET grade='A-' WHERE sid=2003456\"\r\n",
    "update = engine.execute(q)\r\n",
    "show_table()"
   ],
   "outputs": [
    {
     "output_type": "stream",
     "name": "stdout",
     "text": [
      "2021-09-14 23:45:22,984 INFO sqlalchemy.engine.Engine UPDATE TB2103 SET grade='A-' WHERE sid=2003456\n",
      "2021-09-14 23:45:22,985 INFO sqlalchemy.engine.Engine [raw sql] ()\n",
      "2021-09-14 23:45:22,986 INFO sqlalchemy.engine.Engine COMMIT\n",
      "2021-09-14 23:45:22,987 INFO sqlalchemy.engine.Engine SELECT sid,name,grade from TB2103\n",
      "2021-09-14 23:45:22,987 INFO sqlalchemy.engine.Engine [raw sql] ()\n",
      "sid\t\t\tname\t\t\tgrade\n",
      "2001376\t\t\tKoh Huan Yin\t\tNA\n",
      "2002345\t\t\tSansa Stark\t\tNA\n",
      "2003456\t\t\tJon Snow\t\tA-\n",
      "Number of Records:  3\n"
     ]
    }
   ],
   "metadata": {}
  },
  {
   "cell_type": "markdown",
   "source": [
    "Q6. Perform 2nd Update Operation by updating grade of yourself to A+ and display all grades on the table"
   ],
   "metadata": {}
  },
  {
   "cell_type": "code",
   "execution_count": 23,
   "source": [
    "q = \"UPDATE TB2103 SET grade='A+' WHERE sid=2001376\"\r\n",
    "update = engine.execute(q)\r\n",
    "show_table()"
   ],
   "outputs": [
    {
     "output_type": "stream",
     "name": "stdout",
     "text": [
      "2021-09-14 23:45:23,029 INFO sqlalchemy.engine.Engine UPDATE TB2103 SET grade='A+' WHERE sid=2001376\n",
      "2021-09-14 23:45:23,030 INFO sqlalchemy.engine.Engine [raw sql] ()\n",
      "2021-09-14 23:45:23,032 INFO sqlalchemy.engine.Engine COMMIT\n",
      "2021-09-14 23:45:23,033 INFO sqlalchemy.engine.Engine SELECT sid,name,grade from TB2103\n",
      "2021-09-14 23:45:23,033 INFO sqlalchemy.engine.Engine [raw sql] ()\n",
      "sid\t\t\tname\t\t\tgrade\n",
      "2001376\t\t\tKoh Huan Yin\t\tA+\n",
      "2002345\t\t\tSansa Stark\t\tNA\n",
      "2003456\t\t\tJon Snow\t\tA-\n",
      "Number of Records:  3\n"
     ]
    }
   ],
   "metadata": {}
  },
  {
   "cell_type": "markdown",
   "source": [
    "Q7. Perform 1st Delete Operation by deleting student Sansa Stark and displaying the table"
   ],
   "metadata": {}
  },
  {
   "cell_type": "code",
   "execution_count": 24,
   "source": [
    "# Deleting Sansa by Query\r\n",
    "q = \"DELETE FROM TB2103 WHERE sid=2002345\"\r\n",
    "delete = engine.execute(q)\r\n",
    "show_table()\r\n",
    "print(\"Rows deleted: \", delete.rowcount)\r\n"
   ],
   "outputs": [
    {
     "output_type": "stream",
     "name": "stdout",
     "text": [
      "2021-09-14 23:45:23,062 INFO sqlalchemy.engine.Engine DELETE FROM TB2103 WHERE sid=2002345\n",
      "2021-09-14 23:45:23,063 INFO sqlalchemy.engine.Engine [raw sql] ()\n",
      "2021-09-14 23:45:23,065 INFO sqlalchemy.engine.Engine COMMIT\n",
      "2021-09-14 23:45:23,066 INFO sqlalchemy.engine.Engine SELECT sid,name,grade from TB2103\n",
      "2021-09-14 23:45:23,067 INFO sqlalchemy.engine.Engine [raw sql] ()\n",
      "sid\t\t\tname\t\t\tgrade\n",
      "2001376\t\t\tKoh Huan Yin\t\tA+\n",
      "2003456\t\t\tJon Snow\t\tA-\n",
      "Number of Records:  2\n",
      "Rows deleted:  1\n"
     ]
    }
   ],
   "metadata": {}
  },
  {
   "cell_type": "markdown",
   "source": [
    "Q8. Perform 2nd Delete Operation by deleting all students in the table and displaying it"
   ],
   "metadata": {}
  },
  {
   "cell_type": "code",
   "execution_count": 25,
   "source": [
    "query = 'DELETE FROM TB2103'\r\n",
    "delete_all= engine.execute(query)\r\n",
    "show_table()\r\n",
    "print(\"Rows deleted: \", delete_all.rowcount)"
   ],
   "outputs": [
    {
     "output_type": "stream",
     "name": "stdout",
     "text": [
      "2021-09-14 23:45:23,113 INFO sqlalchemy.engine.Engine DELETE FROM TB2103\n",
      "2021-09-14 23:45:23,114 INFO sqlalchemy.engine.Engine [raw sql] ()\n",
      "2021-09-14 23:45:23,115 INFO sqlalchemy.engine.Engine COMMIT\n",
      "2021-09-14 23:45:23,115 INFO sqlalchemy.engine.Engine SELECT sid,name,grade from TB2103\n",
      "2021-09-14 23:45:23,116 INFO sqlalchemy.engine.Engine [raw sql] ()\n",
      "sid\t\t\tname\t\t\tgrade\n",
      "Number of Records:  0\n",
      "Rows deleted:  2\n"
     ]
    }
   ],
   "metadata": {}
  }
 ],
 "metadata": {
  "kernelspec": {
   "name": "python3",
   "display_name": "Python 3.9.7 64-bit"
  },
  "language_info": {
   "codemirror_mode": {
    "name": "ipython",
    "version": 3
   },
   "file_extension": ".py",
   "mimetype": "text/x-python",
   "name": "python",
   "nbconvert_exporter": "python",
   "pygments_lexer": "ipython3",
   "version": "3.9.7"
  },
  "interpreter": {
   "hash": "ba0bf91e89f9bfd72889fb4fc3e1aa6f3c4c9f7e17ae41f894592a01597c6c35"
  }
 },
 "nbformat": 4,
 "nbformat_minor": 5
}